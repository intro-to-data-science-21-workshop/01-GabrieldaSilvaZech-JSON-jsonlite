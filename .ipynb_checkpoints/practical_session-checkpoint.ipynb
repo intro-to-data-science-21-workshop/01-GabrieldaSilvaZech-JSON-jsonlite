{
 "cells": [
  {
   "cell_type": "code",
   "execution_count": 8,
   "id": "584226dd",
   "metadata": {},
   "outputs": [],
   "source": [
    "# make sure the working directory is set to the right path\n",
    "setwd('C:/Users/zech011/LOCAL-Repos/Intro-To-DS/assignments/01-GabrieldaSilvaZech-JSON-jsonlite')"
   ]
  },
  {
   "cell_type": "markdown",
   "id": "de809794",
   "metadata": {},
   "source": [
    "https://hendrikvanb.gitlab.io/2018/07/nested_data-json_to_tibble/\n",
    "\n",
    "https://www.rdocumentation.org/packages/jsonlite/versions/1.7.2\n",
    "\n",
    "https://robotwealth.com/how-to-wrangle-json-data-in-r-with-jsonlite-purr-and-dplyr/"
   ]
  },
  {
   "cell_type": "code",
   "execution_count": 4,
   "id": "b93b9017",
   "metadata": {},
   "outputs": [],
   "source": [
    "# Load necessary packages\n",
    "library(jsonlite)"
   ]
  },
  {
   "cell_type": "markdown",
   "id": "b85bfc2c",
   "metadata": {},
   "source": [
    "## What's in a JSON file anyways?"
   ]
  },
  {
   "cell_type": "code",
   "execution_count": 27,
   "id": "6928d482",
   "metadata": {},
   "outputs": [
    {
     "data": {
      "text/html": [
       "'students_data.json'"
      ],
      "text/latex": [
       "'students\\_data.json'"
      ],
      "text/markdown": [
       "'students_data.json'"
      ],
      "text/plain": [
       "[1] \"students_data.json\""
      ]
     },
     "metadata": {},
     "output_type": "display_data"
    }
   ],
   "source": [
    "# inspect existing files in folder \"data/\"\n",
    "list.files(\"data/\")"
   ]
  },
  {
   "cell_type": "code",
   "execution_count": 31,
   "id": "6604cff8",
   "metadata": {},
   "outputs": [
    {
     "name": "stdout",
     "output_type": "stream",
     "text": [
      "{\n",
      "    \"students\": [\n",
      "        { \n",
      "            \"id\":\"014789\", \n",
      "            \"name\": \"Francesco\", \n",
      "            \"lastname\": \"Danovi\"\n",
      "        }, \n",
      "        { \n",
      "            \"id\":\"023657\", \n",
      "            \"name\": \"Gabriel\", \n",
      "            \"lastname\": \"da Silva Zech\" \n",
      "        }\n",
      "    ],\n",
      "    \n",
      "    \"teachers\": [\"Simon Munzer\", \"Lisa Oswald\"],\n",
      "    \n",
      "    \"ages_students_teachers\": [[23, 24],\n",
      "                               [27, 33]],\n",
      "    \n",
      "    \"university\": {\n",
      "        \"name\": \"Hertie School of Governance\",\n",
      "        \"location\": \"Berlin\",\n",
      "        \"coordinates\": [52.51297066351335, 13.389164312650935]\n",
      "    }\n",
      "}"
     ]
    }
   ],
   "source": [
    "# print contents of the JSON file\n",
    "cat(paste0(readLines(\"data/students_data.json\", warn=FALSE), collapse=\"\\n\"))"
   ]
  },
  {
   "cell_type": "markdown",
   "id": "9fefec17",
   "metadata": {},
   "source": [
    "## Reading a JSON file with `fromJSON()`"
   ]
  },
  {
   "cell_type": "code",
   "execution_count": 33,
   "id": "ad4e93e0",
   "metadata": {},
   "outputs": [
    {
     "data": {
      "text/html": [
       "<dl>\n",
       "\t<dt>$students</dt>\n",
       "\t\t<dd><table>\n",
       "<thead><tr><th scope=col>id</th><th scope=col>firstname</th><th scope=col>lastname</th></tr></thead>\n",
       "<tbody>\n",
       "\t<tr><td>014789       </td><td>Francesco    </td><td>Danovi       </td></tr>\n",
       "\t<tr><td>023657       </td><td>Gabriel      </td><td>da Silva Zech</td></tr>\n",
       "</tbody>\n",
       "</table>\n",
       "</dd>\n",
       "\t<dt>$teachers</dt>\n",
       "\t\t<dd><ol class=list-inline>\n",
       "\t<li>'Simon Munzer'</li>\n",
       "\t<li>'Lisa Oswald'</li>\n",
       "</ol>\n",
       "</dd>\n",
       "\t<dt>$ages_students_teachers</dt>\n",
       "\t\t<dd><table>\n",
       "<tbody>\n",
       "\t<tr><td>23</td><td>24</td></tr>\n",
       "\t<tr><td>27</td><td>33</td></tr>\n",
       "</tbody>\n",
       "</table>\n",
       "</dd>\n",
       "\t<dt>$university</dt>\n",
       "\t\t<dd><dl>\n",
       "\t<dt>$name</dt>\n",
       "\t\t<dd>'Hertie School of Governance'</dd>\n",
       "\t<dt>$location</dt>\n",
       "\t\t<dd>'Berlin'</dd>\n",
       "\t<dt>$coordinates</dt>\n",
       "\t\t<dd><ol class=list-inline>\n",
       "\t<li>52.5129706635134</li>\n",
       "\t<li>13.3891643126509</li>\n",
       "</ol>\n",
       "</dd>\n",
       "</dl>\n",
       "</dd>\n",
       "</dl>\n"
      ],
      "text/latex": [
       "\\begin{description}\n",
       "\\item[\\$students] \\begin{tabular}{r|lll}\n",
       " id & firstname & lastname\\\\\n",
       "\\hline\n",
       "\t 014789        & Francesco     & Danovi       \\\\\n",
       "\t 023657        & Gabriel       & da Silva Zech\\\\\n",
       "\\end{tabular}\n",
       "\n",
       "\\item[\\$teachers] \\begin{enumerate*}\n",
       "\\item 'Simon Munzer'\n",
       "\\item 'Lisa Oswald'\n",
       "\\end{enumerate*}\n",
       "\n",
       "\\item[\\$ages\\_students\\_teachers] \\begin{tabular}{ll}\n",
       "\t 23 & 24\\\\\n",
       "\t 27 & 33\\\\\n",
       "\\end{tabular}\n",
       "\n",
       "\\item[\\$university] \\begin{description}\n",
       "\\item[\\$name] 'Hertie School of Governance'\n",
       "\\item[\\$location] 'Berlin'\n",
       "\\item[\\$coordinates] \\begin{enumerate*}\n",
       "\\item 52.5129706635134\n",
       "\\item 13.3891643126509\n",
       "\\end{enumerate*}\n",
       "\n",
       "\\end{description}\n",
       "\n",
       "\\end{description}\n"
      ],
      "text/markdown": [
       "$students\n",
       ":   \n",
       "| id | firstname | lastname |\n",
       "|---|---|---|\n",
       "| 014789        | Francesco     | Danovi        |\n",
       "| 023657        | Gabriel       | da Silva Zech |\n",
       "\n",
       "\n",
       "$teachers\n",
       ":   1. 'Simon Munzer'\n",
       "2. 'Lisa Oswald'\n",
       "\n",
       "\n",
       "\n",
       "$ages_students_teachers\n",
       ":   \n",
       "| 23 | 24 |\n",
       "| 27 | 33 |\n",
       "\n",
       "\n",
       "$university\n",
       ":   $name\n",
       ":   'Hertie School of Governance'\n",
       "$location\n",
       ":   'Berlin'\n",
       "$coordinates\n",
       ":   1. 52.5129706635134\n",
       "2. 13.3891643126509\n",
       "\n",
       "\n",
       "\n",
       "\n",
       "\n",
       "\n",
       "\n",
       "\n"
      ],
      "text/plain": [
       "$students\n",
       "      id firstname      lastname\n",
       "1 014789 Francesco        Danovi\n",
       "2 023657   Gabriel da Silva Zech\n",
       "\n",
       "$teachers\n",
       "[1] \"Simon Munzer\" \"Lisa Oswald\" \n",
       "\n",
       "$ages_students_teachers\n",
       "     [,1] [,2]\n",
       "[1,]   23   24\n",
       "[2,]   27   33\n",
       "\n",
       "$university\n",
       "$university$name\n",
       "[1] \"Hertie School of Governance\"\n",
       "\n",
       "$university$location\n",
       "[1] \"Berlin\"\n",
       "\n",
       "$university$coordinates\n",
       "[1] 52.51297 13.38916\n",
       "\n"
      ]
     },
     "metadata": {},
     "output_type": "display_data"
    }
   ],
   "source": [
    "# load json file\n",
    "json_data <- fromJSON(\"data/students_data.json\")\n",
    "json_data"
   ]
  },
  {
   "cell_type": "markdown",
   "id": "ab902c59",
   "metadata": {},
   "source": [
    "## Why the different data types? It's a *simple* answer"
   ]
  },
  {
   "cell_type": "markdown",
   "id": "f9b3c5a1",
   "metadata": {},
   "source": [
    "JSON data usually gets converted into **lists** when it is read by `fromJSON()`.\n",
    "\n",
    "However, **this is not always the case**. Depending on how the JSON data is structured, `fromJSON()` automatically converts the array to other R classes.\n",
    "\n",
    "This process where JSON arrays automatically get converted from a list into a more specific R class is called **simplification** (get the joke?).\n",
    "\n",
    "There are **3 types** of JSON arrays that get converted to different R classes by default: \n",
    "* arrays of **primitives**\n",
    "* arrays of **objects**\n",
    "* arrays of **arrays**\n",
    "\n",
    "Let's take a closer look at these."
   ]
  },
  {
   "cell_type": "markdown",
   "id": "2bd9ce17",
   "metadata": {},
   "source": [
    "### R `vectors` are created from JSON arrays of primitives (strings, numbers, booleans or null)"
   ]
  },
  {
   "cell_type": "markdown",
   "id": "f084311e",
   "metadata": {},
   "source": [
    "The `teachers` element in the JSON file is an **array of primitives**. \"Primitives\" are either `strings`, `numbers`, `booleans` or `null` values (they are named so because they are the simplest elements available in a programming language).\n",
    "\n",
    "> \"teachers\": [\"Simon Munzer\", \"Lisa Oswald\"]\n",
    "\n",
    "Why? It has multiple `strings` separated by commas `,` within blockquotes `[]`. \n",
    "\n",
    "Primitives get converted to a R `vector` by default. See again:"
   ]
  },
  {
   "cell_type": "code",
   "execution_count": 34,
   "id": "bb029ccd",
   "metadata": {},
   "outputs": [
    {
     "data": {
      "text/html": [
       "<strong>$teachers</strong> = <ol class=list-inline>\n",
       "\t<li>'Simon Munzer'</li>\n",
       "\t<li>'Lisa Oswald'</li>\n",
       "</ol>\n"
      ],
      "text/latex": [
       "\\textbf{\\$teachers} = \\begin{enumerate*}\n",
       "\\item 'Simon Munzer'\n",
       "\\item 'Lisa Oswald'\n",
       "\\end{enumerate*}\n"
      ],
      "text/markdown": [
       "**$teachers** = 1. 'Simon Munzer'\n",
       "2. 'Lisa Oswald'\n",
       "\n",
       "\n"
      ],
      "text/plain": [
       "$teachers\n",
       "[1] \"Simon Munzer\" \"Lisa Oswald\" \n"
      ]
     },
     "metadata": {},
     "output_type": "display_data"
    }
   ],
   "source": [
    "json_data[\"teachers\"] # output is a R vector"
   ]
  },
  {
   "cell_type": "markdown",
   "id": "68b1233e",
   "metadata": {},
   "source": [
    "### JSON array of objects (key-value pairs) -> R data frame"
   ]
  },
  {
   "cell_type": "code",
   "execution_count": 4,
   "id": "1541d724",
   "metadata": {
    "scrolled": true
   },
   "outputs": [
    {
     "data": {
      "text/html": [
       "<table>\n",
       "<thead><tr><th scope=col>name</th><th scope=col>age</th></tr></thead>\n",
       "<tbody>\n",
       "\t<tr><td>Francesco</td><td>23       </td></tr>\n",
       "\t<tr><td>Gabriel  </td><td>25       </td></tr>\n",
       "</tbody>\n",
       "</table>\n"
      ],
      "text/latex": [
       "\\begin{tabular}{r|ll}\n",
       " name & age\\\\\n",
       "\\hline\n",
       "\t Francesco & 23       \\\\\n",
       "\t Gabriel   & 25       \\\\\n",
       "\\end{tabular}\n"
      ],
      "text/markdown": [
       "\n",
       "| name | age |\n",
       "|---|---|\n",
       "| Francesco | 23        |\n",
       "| Gabriel   | 25        |\n",
       "\n"
      ],
      "text/plain": [
       "  name      age\n",
       "1 Francesco 23 \n",
       "2 Gabriel   25 "
      ]
     },
     "metadata": {},
     "output_type": "display_data"
    }
   ],
   "source": [
    "# when the JSON data is in the form of an array of objects...\n",
    "json_objects <- '[\n",
    "                {\"name\": \"Francesco\", \n",
    "                 \"age\": 23}, \n",
    "                {\"name\": \"Gabriel\", \n",
    "                 \"age\": 25}\n",
    "              ]'\n",
    "\n",
    "# ...it gets converted into a data frame\n",
    "fromJSON(json_objects)"
   ]
  },
  {
   "cell_type": "markdown",
   "id": "69c31030",
   "metadata": {},
   "source": [
    "### JSON array of arrays (equal-length sub-arrays) -> R matrix"
   ]
  },
  {
   "cell_type": "code",
   "execution_count": 71,
   "id": "1ba6e71d",
   "metadata": {},
   "outputs": [
    {
     "data": {
      "text/html": [
       "<table>\n",
       "<tbody>\n",
       "\t<tr><td>23</td><td>25</td><td>27</td></tr>\n",
       "\t<tr><td>30</td><td>35</td><td>37</td></tr>\n",
       "\t<tr><td>40</td><td>43</td><td>48</td></tr>\n",
       "</tbody>\n",
       "</table>\n"
      ],
      "text/latex": [
       "\\begin{tabular}{lll}\n",
       "\t 23 & 25 & 27\\\\\n",
       "\t 30 & 35 & 37\\\\\n",
       "\t 40 & 43 & 48\\\\\n",
       "\\end{tabular}\n"
      ],
      "text/markdown": [
       "\n",
       "| 23 | 25 | 27 |\n",
       "| 30 | 35 | 37 |\n",
       "| 40 | 43 | 48 |\n",
       "\n"
      ],
      "text/plain": [
       "     [,1] [,2] [,3]\n",
       "[1,] 23   25   27  \n",
       "[2,] 30   35   37  \n",
       "[3,] 40   43   48  "
      ]
     },
     "metadata": {},
     "output_type": "display_data"
    }
   ],
   "source": [
    "# when the JSON data is in the form of an array of arrays...\n",
    "json_arrays <- '[\n",
    "                [23, 25, 27],\n",
    "                [30, 35, 37],\n",
    "                [40, 43, 48]\n",
    "              ]'\n",
    "\n",
    "# ...it gets converted into a matrix\n",
    "fromJSON(json_arrays)"
   ]
  },
  {
   "cell_type": "markdown",
   "id": "fd32c5ae",
   "metadata": {},
   "source": [
    "## How to convert JSON elements strictly to lists"
   ]
  },
  {
   "cell_type": "markdown",
   "id": "c8ad4b18",
   "metadata": {},
   "source": [
    "It is possible, however, to disable this automatic simplification. This can be done by passing `simplifyVector = FALSE` to the `fromJSON()` function.\n",
    "\n",
    "This will make sure all values are returned as **lists**."
   ]
  },
  {
   "cell_type": "code",
   "execution_count": 76,
   "id": "d856083e",
   "metadata": {},
   "outputs": [
    {
     "data": {
      "text/html": [
       "<ol>\n",
       "\t<li>'Francesco'</li>\n",
       "\t<li>'Gabriel'</li>\n",
       "\t<li>'Simon'</li>\n",
       "\t<li>'Lisa'</li>\n",
       "</ol>\n"
      ],
      "text/latex": [
       "\\begin{enumerate}\n",
       "\\item 'Francesco'\n",
       "\\item 'Gabriel'\n",
       "\\item 'Simon'\n",
       "\\item 'Lisa'\n",
       "\\end{enumerate}\n"
      ],
      "text/markdown": [
       "1. 'Francesco'\n",
       "2. 'Gabriel'\n",
       "3. 'Simon'\n",
       "4. 'Lisa'\n",
       "\n",
       "\n"
      ],
      "text/plain": [
       "[[1]]\n",
       "[1] \"Francesco\"\n",
       "\n",
       "[[2]]\n",
       "[1] \"Gabriel\"\n",
       "\n",
       "[[3]]\n",
       "[1] \"Simon\"\n",
       "\n",
       "[[4]]\n",
       "[1] \"Lisa\"\n"
      ]
     },
     "metadata": {},
     "output_type": "display_data"
    },
    {
     "data": {
      "text/html": [
       "<ol>\n",
       "\t<li><dl>\n",
       "\t<dt>$name</dt>\n",
       "\t\t<dd>'Francesco'</dd>\n",
       "\t<dt>$age</dt>\n",
       "\t\t<dd>23</dd>\n",
       "</dl>\n",
       "</li>\n",
       "\t<li><dl>\n",
       "\t<dt>$name</dt>\n",
       "\t\t<dd>'Gabriel'</dd>\n",
       "\t<dt>$age</dt>\n",
       "\t\t<dd>25</dd>\n",
       "</dl>\n",
       "</li>\n",
       "</ol>\n"
      ],
      "text/latex": [
       "\\begin{enumerate}\n",
       "\\item \\begin{description}\n",
       "\\item[\\$name] 'Francesco'\n",
       "\\item[\\$age] 23\n",
       "\\end{description}\n",
       "\n",
       "\\item \\begin{description}\n",
       "\\item[\\$name] 'Gabriel'\n",
       "\\item[\\$age] 25\n",
       "\\end{description}\n",
       "\n",
       "\\end{enumerate}\n"
      ],
      "text/markdown": [
       "1. $name\n",
       ":   'Francesco'\n",
       "$age\n",
       ":   23\n",
       "\n",
       "\n",
       "\n",
       "2. $name\n",
       ":   'Gabriel'\n",
       "$age\n",
       ":   25\n",
       "\n",
       "\n",
       "\n",
       "\n",
       "\n"
      ],
      "text/plain": [
       "[[1]]\n",
       "[[1]]$name\n",
       "[1] \"Francesco\"\n",
       "\n",
       "[[1]]$age\n",
       "[1] 23\n",
       "\n",
       "\n",
       "[[2]]\n",
       "[[2]]$name\n",
       "[1] \"Gabriel\"\n",
       "\n",
       "[[2]]$age\n",
       "[1] 25\n",
       "\n"
      ]
     },
     "metadata": {},
     "output_type": "display_data"
    },
    {
     "data": {
      "text/html": [
       "<ol>\n",
       "\t<li><ol>\n",
       "\t<li>23</li>\n",
       "\t<li>25</li>\n",
       "\t<li>27</li>\n",
       "</ol>\n",
       "</li>\n",
       "\t<li><ol>\n",
       "\t<li>30</li>\n",
       "\t<li>35</li>\n",
       "\t<li>37</li>\n",
       "</ol>\n",
       "</li>\n",
       "\t<li><ol>\n",
       "\t<li>40</li>\n",
       "\t<li>43</li>\n",
       "\t<li>48</li>\n",
       "</ol>\n",
       "</li>\n",
       "</ol>\n"
      ],
      "text/latex": [
       "\\begin{enumerate}\n",
       "\\item \\begin{enumerate}\n",
       "\\item 23\n",
       "\\item 25\n",
       "\\item 27\n",
       "\\end{enumerate}\n",
       "\n",
       "\\item \\begin{enumerate}\n",
       "\\item 30\n",
       "\\item 35\n",
       "\\item 37\n",
       "\\end{enumerate}\n",
       "\n",
       "\\item \\begin{enumerate}\n",
       "\\item 40\n",
       "\\item 43\n",
       "\\item 48\n",
       "\\end{enumerate}\n",
       "\n",
       "\\end{enumerate}\n"
      ],
      "text/markdown": [
       "1. 1. 23\n",
       "2. 25\n",
       "3. 27\n",
       "\n",
       "\n",
       "\n",
       "2. 1. 30\n",
       "2. 35\n",
       "3. 37\n",
       "\n",
       "\n",
       "\n",
       "3. 1. 40\n",
       "2. 43\n",
       "3. 48\n",
       "\n",
       "\n",
       "\n",
       "\n",
       "\n"
      ],
      "text/plain": [
       "[[1]]\n",
       "[[1]][[1]]\n",
       "[1] 23\n",
       "\n",
       "[[1]][[2]]\n",
       "[1] 25\n",
       "\n",
       "[[1]][[3]]\n",
       "[1] 27\n",
       "\n",
       "\n",
       "[[2]]\n",
       "[[2]][[1]]\n",
       "[1] 30\n",
       "\n",
       "[[2]][[2]]\n",
       "[1] 35\n",
       "\n",
       "[[2]][[3]]\n",
       "[1] 37\n",
       "\n",
       "\n",
       "[[3]]\n",
       "[[3]][[1]]\n",
       "[1] 40\n",
       "\n",
       "[[3]][[2]]\n",
       "[1] 43\n",
       "\n",
       "[[3]][[3]]\n",
       "[1] 48\n",
       "\n"
      ]
     },
     "metadata": {},
     "output_type": "display_data"
    }
   ],
   "source": [
    "fromJSON(json_primitives, simplifyVector = FALSE)\n",
    "fromJSON(json_objects, simplifyVector = FALSE)\n",
    "fromJSON(json_arrays, simplifyVector = FALSE)"
   ]
  },
  {
   "cell_type": "code",
   "execution_count": null,
   "id": "7bae7812",
   "metadata": {},
   "outputs": [],
   "source": []
  },
  {
   "cell_type": "code",
   "execution_count": null,
   "id": "8f530b2d",
   "metadata": {},
   "outputs": [],
   "source": []
  },
  {
   "cell_type": "code",
   "execution_count": 7,
   "id": "36be067f",
   "metadata": {},
   "outputs": [
    {
     "data": {
      "text/html": [
       "'C:/Users/zech011/LOCAL-Repos'"
      ],
      "text/latex": [
       "'C:/Users/zech011/LOCAL-Repos'"
      ],
      "text/markdown": [
       "'C:/Users/zech011/LOCAL-Repos'"
      ],
      "text/plain": [
       "[1] \"C:/Users/zech011/LOCAL-Repos\""
      ]
     },
     "metadata": {},
     "output_type": "display_data"
    }
   ],
   "source": [
    "getwd()"
   ]
  },
  {
   "cell_type": "code",
   "execution_count": 9,
   "id": "9590d3c8",
   "metadata": {
    "scrolled": true
   },
   "outputs": [
    {
     "data": {
      "text/html": [
       "<strong>$student</strong> = <table>\n",
       "<thead><tr><th scope=col>id</th><th scope=col>name</th><th scope=col>lastname</th></tr></thead>\n",
       "<tbody>\n",
       "\t<tr><td>01           </td><td>Francesco    </td><td>Danovi       </td></tr>\n",
       "\t<tr><td>02           </td><td>Gabriel      </td><td>da Silva Zech</td></tr>\n",
       "</tbody>\n",
       "</table>\n"
      ],
      "text/latex": [
       "\\textbf{\\$student} = \\begin{tabular}{r|lll}\n",
       " id & name & lastname\\\\\n",
       "\\hline\n",
       "\t 01            & Francesco     & Danovi       \\\\\n",
       "\t 02            & Gabriel       & da Silva Zech\\\\\n",
       "\\end{tabular}\n"
      ],
      "text/markdown": [
       "**$student** = \n",
       "| id | name | lastname |\n",
       "|---|---|---|\n",
       "| 01            | Francesco     | Danovi        |\n",
       "| 02            | Gabriel       | da Silva Zech |\n",
       "\n"
      ],
      "text/plain": [
       "$student\n",
       "  id      name      lastname\n",
       "1 01 Francesco        Danovi\n",
       "2 02   Gabriel da Silva Zech\n"
      ]
     },
     "metadata": {},
     "output_type": "display_data"
    },
    {
     "data": {
      "text/html": [
       "'list'"
      ],
      "text/latex": [
       "'list'"
      ],
      "text/markdown": [
       "'list'"
      ],
      "text/plain": [
       "[1] \"list\""
      ]
     },
     "metadata": {},
     "output_type": "display_data"
    }
   ],
   "source": [
    "# load a json file named \"students.json\"\n",
    "json_data <- fromJSON(\"data/students.json\")\n",
    "json_data\n",
    "class(json_data)"
   ]
  },
  {
   "cell_type": "code",
   "execution_count": 17,
   "id": "7c992cfa",
   "metadata": {},
   "outputs": [
    {
     "data": {
      "text/html": [
       "<dl>\n",
       "\t<dt>$student</dt>\n",
       "\t\t<dd><table>\n",
       "<thead><tr><th scope=col>id</th><th scope=col>name</th><th scope=col>lastname</th></tr></thead>\n",
       "<tbody>\n",
       "\t<tr><td>01           </td><td>Francesco    </td><td>Danovi       </td></tr>\n",
       "\t<tr><td>02           </td><td>Gabriel      </td><td>da Silva Zech</td></tr>\n",
       "</tbody>\n",
       "</table>\n",
       "</dd>\n",
       "\t<dt>$university</dt>\n",
       "\t\t<dd><dl>\n",
       "\t<dt>$name</dt>\n",
       "\t\t<dd>'Hertie School of Governance'</dd>\n",
       "\t<dt>$location</dt>\n",
       "\t\t<dd>'Berlin'</dd>\n",
       "\t<dt>$coordinates</dt>\n",
       "\t\t<dd><ol class=list-inline>\n",
       "\t<li>52.5129706635134</li>\n",
       "\t<li>13.3891643126509</li>\n",
       "</ol>\n",
       "</dd>\n",
       "</dl>\n",
       "</dd>\n",
       "</dl>\n"
      ],
      "text/latex": [
       "\\begin{description}\n",
       "\\item[\\$student] \\begin{tabular}{r|lll}\n",
       " id & name & lastname\\\\\n",
       "\\hline\n",
       "\t 01            & Francesco     & Danovi       \\\\\n",
       "\t 02            & Gabriel       & da Silva Zech\\\\\n",
       "\\end{tabular}\n",
       "\n",
       "\\item[\\$university] \\begin{description}\n",
       "\\item[\\$name] 'Hertie School of Governance'\n",
       "\\item[\\$location] 'Berlin'\n",
       "\\item[\\$coordinates] \\begin{enumerate*}\n",
       "\\item 52.5129706635134\n",
       "\\item 13.3891643126509\n",
       "\\end{enumerate*}\n",
       "\n",
       "\\end{description}\n",
       "\n",
       "\\end{description}\n"
      ],
      "text/markdown": [
       "$student\n",
       ":   \n",
       "| id | name | lastname |\n",
       "|---|---|---|\n",
       "| 01            | Francesco     | Danovi        |\n",
       "| 02            | Gabriel       | da Silva Zech |\n",
       "\n",
       "\n",
       "$university\n",
       ":   $name\n",
       ":   'Hertie School of Governance'\n",
       "$location\n",
       ":   'Berlin'\n",
       "$coordinates\n",
       ":   1. 52.5129706635134\n",
       "2. 13.3891643126509\n",
       "\n",
       "\n",
       "\n",
       "\n",
       "\n",
       "\n",
       "\n",
       "\n"
      ],
      "text/plain": [
       "$student\n",
       "  id      name      lastname\n",
       "1 01 Francesco        Danovi\n",
       "2 02   Gabriel da Silva Zech\n",
       "\n",
       "$university\n",
       "$university$name\n",
       "[1] \"Hertie School of Governance\"\n",
       "\n",
       "$university$location\n",
       "[1] \"Berlin\"\n",
       "\n",
       "$university$coordinates\n",
       "[1] 52.51297 13.38916\n",
       "\n"
      ]
     },
     "metadata": {},
     "output_type": "display_data"
    },
    {
     "data": {
      "text/html": [
       "'list'"
      ],
      "text/latex": [
       "'list'"
      ],
      "text/markdown": [
       "'list'"
      ],
      "text/plain": [
       "[1] \"list\""
      ]
     },
     "metadata": {},
     "output_type": "display_data"
    }
   ],
   "source": [
    "# load a json file named \"students.json\"\n",
    "json_data <- fromJSON(\"data/students_universities.json\")\n",
    "#json_data <- fromJSON(\"data/students_universities.json\", simplifyVector = FALSE, flatten = FALSE)\n",
    "\n",
    "json_data\n",
    "class(json_data)"
   ]
  },
  {
   "cell_type": "code",
   "execution_count": null,
   "id": "9c3a006e",
   "metadata": {},
   "outputs": [],
   "source": [
    "# this is how the contents of json file looks like \n",
    "{\n",
    "    \"student\": [\n",
    "        { \n",
    "            \"id\":\"01\", \n",
    "            \"name\": \"Francesco\", \n",
    "            \"lastname\": \"Danovi\"\n",
    "        }, \n",
    "        { \n",
    "            \"id\":\"02\", \n",
    "            \"name\": \"Gabriel\", \n",
    "            \"lastname\": \"da Silva Zech\" \n",
    "        }\n",
    "    ],\n",
    "    \"university\": {\n",
    "        \"name\": \"Hertie School of Governance\",\n",
    "        \"location\": \"Berlin\",\n",
    "        \"coordinates\": [52.51297066351335, 13.389164312650935]\n",
    "    }\n",
    "}"
   ]
  },
  {
   "cell_type": "code",
   "execution_count": 11,
   "id": "f792ba90",
   "metadata": {},
   "outputs": [
    {
     "ename": "ERROR",
     "evalue": "Error in parse(text = x, srcfile = src): <text>:4:35: Unerwartete(s) ','\n3: {\n4:   \"@context\": \"https://schema.org\",\n                                     ^\n",
     "output_type": "error",
     "traceback": [
      "Error in parse(text = x, srcfile = src): <text>:4:35: Unerwartete(s) ','\n3: {\n4:   \"@context\": \"https://schema.org\",\n                                     ^\nTraceback:\n"
     ]
    }
   ],
   "source": [
    "# acquired from https://schema.org/JobPosting\n",
    "job_posting <- \n",
    "{\n",
    "    \"@context\": \"https://schema.org\",\n",
    "    \"@type\": \"JobPosting\",\n",
    "    \"baseSalary\": \"100000\",\n",
    "    \"jobBenefits\": \"Medical, Life, Dental\",\n",
    "    \"datePosted\": \"2011-10-31\",\n",
    "    \"description\": \"Description: ABC Company Inc. seeks a full-time mid-level software engineer to develop in-house tools.\",\n",
    "    \"educationRequirements\": \"Bachelor's Degree in Computer Science, Information Systems or related fields of study.\",\n",
    "    \"employmentType\": \"Full-time\",\n",
    "    \"experienceRequirements\": \"Minumum 3 years experience as a software engineer\",\n",
    "    \"incentiveCompensation\": \"Performance-based annual bonus plan, project-completion bonuses\",\n",
    "    \"industry\": \"Computer Software\",\n",
    "    \"jobLocation\": {\n",
    "    \"@type\": \"Place\",\n",
    "    \"address\": {\n",
    "        \"@type\": \"PostalAddress\",\n",
    "        \"addressLocality\": \"Kirkland\",\n",
    "        \"addressRegion\": \"WA\",\n",
    "        \"addressCoordinates\": [25.1212, 55.1535]\n",
    "    }\n",
    "    },\n",
    "    \"occupationalCategory\": \"15-1132.00 Software Developers, Application\",\n",
    "    \"qualifications\": \"Ability to work in a team environment with members of varying skill levels. Highly motivated. Learns quickly.\",\n",
    "    \"responsibilities\": \"Design and write specifications for tools for in-house customers Build tools according to specifications\",\n",
    "    \"salaryCurrency\": \"USD\",\n",
    "    \"skills\": \"Web application development using Java/J2EE Web application development using Python or familiarity with dynamic programming languages\",\n",
    "    \"specialCommitments\": \"VeteranCommit\",\n",
    "    \"title\": \"Software Engineer\",\n",
    "    \"workHours\": \"40 hours per week\"\n",
    "    }\n"
   ]
  },
  {
   "cell_type": "code",
   "execution_count": null,
   "id": "241922a9",
   "metadata": {},
   "outputs": [],
   "source": []
  },
  {
   "cell_type": "code",
   "execution_count": null,
   "id": "292217c4",
   "metadata": {},
   "outputs": [],
   "source": []
  },
  {
   "cell_type": "code",
   "execution_count": null,
   "id": "5e994c6b",
   "metadata": {},
   "outputs": [],
   "source": []
  },
  {
   "cell_type": "code",
   "execution_count": null,
   "id": "a7646a03",
   "metadata": {},
   "outputs": [],
   "source": []
  },
  {
   "cell_type": "code",
   "execution_count": 12,
   "id": "f6b367ad",
   "metadata": {},
   "outputs": [
    {
     "ename": "ERROR",
     "evalue": "Error in parse(text = x, srcfile = src): <text>:2:14: Unerwartete(s) '['\n1: {\n2:   \"student\": [\n                ^\n",
     "output_type": "error",
     "traceback": [
      "Error in parse(text = x, srcfile = src): <text>:2:14: Unerwartete(s) '['\n1: {\n2:   \"student\": [\n                ^\nTraceback:\n"
     ]
    }
   ],
   "source": [
    "{\n",
    "  \"student\": [ \n",
    "     { \n",
    "        \"id\":\"01\", \n",
    "        \"name\": \"Tom\", \n",
    "        \"lastname\": \"Price\" \n",
    "     }, \n",
    "     { \n",
    "        \"id\":\"02\", \n",
    "        \"name\": \"Nick\", \n",
    "        \"lastname\": \"Thameson\" \n",
    "     } \n",
    "  ]   \n",
    "}\n",
    "\n",
    "# XML Example\n",
    "<?xml version=\"1.0\" encoding=\"UTF-8\" ?>\n",
    "<root>\n",
    "    <student>\n",
    "        <id>01</id>\n",
    "        <name>Tom</name>\n",
    "        <lastname>Price</lastname>\n",
    "    </student>\n",
    "    <student>\n",
    "        <id>02</id>\n",
    "        <name>Nick</name>\n",
    "        <lastname>Thameson</lastname>\n",
    "    </student>\n",
    "</root>"
   ]
  }
 ],
 "metadata": {
  "kernelspec": {
   "display_name": "R",
   "language": "R",
   "name": "ir"
  },
  "language_info": {
   "codemirror_mode": "r",
   "file_extension": ".r",
   "mimetype": "text/x-r-source",
   "name": "R",
   "pygments_lexer": "r",
   "version": "3.6.1"
  }
 },
 "nbformat": 4,
 "nbformat_minor": 5
}
